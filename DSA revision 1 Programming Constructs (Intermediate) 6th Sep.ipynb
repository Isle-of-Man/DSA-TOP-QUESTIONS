{
 "cells": [
  {
   "cell_type": "code",
   "execution_count": 1,
   "id": "f7da6d05",
   "metadata": {},
   "outputs": [],
   "source": [
    "import math "
   ]
  },
  {
   "cell_type": "markdown",
   "id": "21b05343",
   "metadata": {},
   "source": [
    "### DSA revision Mock interview 1"
   ]
  },
  {
   "cell_type": "markdown",
   "id": "660f4f98",
   "metadata": {
    "heading_collapsed": true
   },
   "source": [
    "####  Introduction to Problem Solving"
   ]
  },
  {
   "cell_type": "markdown",
   "id": "4eba46cf",
   "metadata": {
    "heading_collapsed": true,
    "hidden": true
   },
   "source": [
    "##### Q1. Is It Prime?\n",
    "\n",
    "Problem Description\n",
    "\n",
    "Given an integer A, you have to tell whether it is a prime number or not.\n",
    "\n",
    "A prime number is a natural number greater than 1 which is divisible only by 1 and itself."
   ]
  },
  {
   "cell_type": "code",
   "execution_count": 2,
   "id": "89a0d7a3",
   "metadata": {
    "hidden": true
   },
   "outputs": [],
   "source": [
    "def isPrime(n):\n",
    "    \n",
    "    count = 0\n",
    "    for i in range (1,n+1):\n",
    "        if n%i == 0:\n",
    "            count+=1\n",
    "            i += 1\n",
    "    return count == 2\n",
    "        "
   ]
  },
  {
   "cell_type": "code",
   "execution_count": 3,
   "id": "c5c3f086",
   "metadata": {
    "hidden": true
   },
   "outputs": [
    {
     "data": {
      "text/plain": [
       "False"
      ]
     },
     "execution_count": 3,
     "metadata": {},
     "output_type": "execute_result"
    }
   ],
   "source": [
    "isPrime(0)"
   ]
  },
  {
   "cell_type": "code",
   "execution_count": 4,
   "id": "812c5f6b",
   "metadata": {
    "hidden": true
   },
   "outputs": [],
   "source": [
    "def isPrimebetter(n):\n",
    "    \n",
    "    count = 0\n",
    "    i = 1 \n",
    "    while i*i < n + 1:\n",
    "        if n % i == 0:\n",
    "            count += 2\n",
    "        i += 1\n",
    "    return count == 2\n",
    "        "
   ]
  },
  {
   "cell_type": "code",
   "execution_count": 5,
   "id": "bfb5ca5d",
   "metadata": {
    "hidden": true
   },
   "outputs": [
    {
     "data": {
      "text/plain": [
       "True"
      ]
     },
     "execution_count": 5,
     "metadata": {},
     "output_type": "execute_result"
    }
   ],
   "source": [
    "isPrimebetter(2)"
   ]
  },
  {
   "cell_type": "code",
   "execution_count": null,
   "id": "ee0493d4",
   "metadata": {
    "hidden": true
   },
   "outputs": [],
   "source": []
  },
  {
   "cell_type": "code",
   "execution_count": 6,
   "id": "b55e20fe",
   "metadata": {
    "hidden": true
   },
   "outputs": [],
   "source": [
    "def isPrimebetterBetter(n):\n",
    "    \n",
    "    \n",
    "    i = 2             # since 1 nad N are already factors of a number , if there is n%i and get a new factor its not prime\n",
    "    while i*i < n + 1:\n",
    "        if n % i == 0:\n",
    "                        #no need of count like in the previous method\n",
    "            return False\n",
    "            i += 1 \n",
    "    return True\n",
    "        "
   ]
  },
  {
   "cell_type": "code",
   "execution_count": 7,
   "id": "c93d44a1",
   "metadata": {
    "hidden": true
   },
   "outputs": [
    {
     "data": {
      "text/plain": [
       "False"
      ]
     },
     "execution_count": 7,
     "metadata": {},
     "output_type": "execute_result"
    }
   ],
   "source": [
    "isPrimebetterBetter(18)"
   ]
  },
  {
   "cell_type": "code",
   "execution_count": null,
   "id": "a3af5698",
   "metadata": {
    "hidden": true
   },
   "outputs": [],
   "source": []
  },
  {
   "cell_type": "markdown",
   "id": "b682bdfa",
   "metadata": {
    "hidden": true
   },
   "source": [
    "##### Q2. Is It Perfect?\n",
    "\n",
    "Problem Description\n",
    "\n",
    "You are given N positive integers.\n",
    "\n",
    "For each given integer A, you have to tell whether it is a perfect number or not.\n",
    "\n",
    "A perfect number is a positive integer which is equal to the sum of its proper positive divisors."
   ]
  },
  {
   "cell_type": "code",
   "execution_count": null,
   "id": "c02037f4",
   "metadata": {
    "hidden": true
   },
   "outputs": [],
   "source": []
  },
  {
   "cell_type": "code",
   "execution_count": 8,
   "id": "4d81f9a6",
   "metadata": {
    "hidden": true
   },
   "outputs": [],
   "source": [
    "def sqrt(n):\n",
    "    \n",
    "    for i in range(1,n+1):\n",
    "        if i*i <= n :\n",
    "            return i\n",
    "        \n",
    "# works only for perfect squares "
   ]
  },
  {
   "cell_type": "code",
   "execution_count": 9,
   "id": "3e44628f",
   "metadata": {
    "hidden": true
   },
   "outputs": [
    {
     "data": {
      "text/plain": [
       "1"
      ]
     },
     "execution_count": 9,
     "metadata": {},
     "output_type": "execute_result"
    }
   ],
   "source": [
    "sqrt(25)"
   ]
  },
  {
   "cell_type": "code",
   "execution_count": 10,
   "id": "62295e1d",
   "metadata": {
    "hidden": true
   },
   "outputs": [
    {
     "data": {
      "text/plain": [
       "1"
      ]
     },
     "execution_count": 10,
     "metadata": {},
     "output_type": "execute_result"
    }
   ],
   "source": [
    "sqrt(33) # will not work"
   ]
  },
  {
   "cell_type": "code",
   "execution_count": null,
   "id": "afadd85c",
   "metadata": {
    "hidden": true
   },
   "outputs": [],
   "source": []
  },
  {
   "cell_type": "code",
   "execution_count": 11,
   "id": "5717466d",
   "metadata": {
    "hidden": true
   },
   "outputs": [],
   "source": [
    "def sqrtbetter(n):\n",
    "    \n",
    "    for i in range(1,n+1):\n",
    "        if i*i <= n and (i+1)*(i+1) >n:\n",
    "            return i\n"
   ]
  },
  {
   "cell_type": "code",
   "execution_count": 12,
   "id": "0c2f8e4e",
   "metadata": {
    "hidden": true
   },
   "outputs": [
    {
     "data": {
      "text/plain": [
       "4"
      ]
     },
     "execution_count": 12,
     "metadata": {},
     "output_type": "execute_result"
    }
   ],
   "source": [
    "sqrtbetter(24)"
   ]
  },
  {
   "cell_type": "code",
   "execution_count": 13,
   "id": "c3e182b9",
   "metadata": {
    "hidden": true
   },
   "outputs": [],
   "source": [
    "def sqrtwhile(n):\n",
    "    i = 1\n",
    "    while i*i <= n:\n",
    "        i+=1\n",
    "    return i -1"
   ]
  },
  {
   "cell_type": "code",
   "execution_count": 14,
   "id": "d2b1f042",
   "metadata": {
    "hidden": true
   },
   "outputs": [
    {
     "data": {
      "text/plain": [
       "5"
      ]
     },
     "execution_count": 14,
     "metadata": {},
     "output_type": "execute_result"
    }
   ],
   "source": [
    "sqrtwhile(25)"
   ]
  },
  {
   "cell_type": "code",
   "execution_count": 15,
   "id": "ab377e54",
   "metadata": {
    "hidden": true
   },
   "outputs": [
    {
     "data": {
      "text/plain": [
       "4"
      ]
     },
     "execution_count": 15,
     "metadata": {},
     "output_type": "execute_result"
    }
   ],
   "source": [
    "sqrtwhile(24)"
   ]
  },
  {
   "cell_type": "code",
   "execution_count": 16,
   "id": "34be1937",
   "metadata": {
    "hidden": true
   },
   "outputs": [],
   "source": [
    "def sqrtwhileBetter(n):\n",
    "    low = 1\n",
    "    high = n \n",
    "    \n",
    "    while low <= high :\n",
    "        \n",
    "        mid = (low + high)//2\n",
    "\n",
    "        if mid * mid > n :\n",
    "            high = mid -1\n",
    "        elif mid *mid < n :\n",
    "            low = mid + 1\n",
    "        else :\n",
    "            return mid \n",
    "    return high\n",
    "            "
   ]
  },
  {
   "cell_type": "code",
   "execution_count": 17,
   "id": "0cadd951",
   "metadata": {
    "hidden": true
   },
   "outputs": [
    {
     "data": {
      "text/plain": [
       "4"
      ]
     },
     "execution_count": 17,
     "metadata": {},
     "output_type": "execute_result"
    }
   ],
   "source": [
    "sqrtwhileBetter(24)"
   ]
  },
  {
   "cell_type": "code",
   "execution_count": 18,
   "id": "ecb28af6",
   "metadata": {
    "hidden": true
   },
   "outputs": [
    {
     "data": {
      "text/plain": [
       "5"
      ]
     },
     "execution_count": 18,
     "metadata": {},
     "output_type": "execute_result"
    }
   ],
   "source": [
    "sqrtwhileBetter(25)"
   ]
  },
  {
   "cell_type": "code",
   "execution_count": 19,
   "id": "3ece7d3b",
   "metadata": {
    "hidden": true
   },
   "outputs": [
    {
     "data": {
      "text/plain": [
       "6"
      ]
     },
     "execution_count": 19,
     "metadata": {},
     "output_type": "execute_result"
    }
   ],
   "source": [
    "sqrtwhileBetter(48)"
   ]
  },
  {
   "cell_type": "code",
   "execution_count": null,
   "id": "71ce4c2e",
   "metadata": {
    "hidden": true
   },
   "outputs": [],
   "source": []
  },
  {
   "cell_type": "markdown",
   "id": "bd0cfb2a",
   "metadata": {
    "hidden": true
   },
   "source": [
    "##### Q3.Summation Game\n",
    "\n",
    "Problem Description\n",
    "\n",
    "Write a program to find sum all Natural numbers from 1 to N where you have to take N as input from user"
   ]
  },
  {
   "cell_type": "code",
   "execution_count": 20,
   "id": "3da9d6ce",
   "metadata": {
    "hidden": true
   },
   "outputs": [],
   "source": [
    "def summationgame(n):\n",
    "    \n",
    "    ans = 0\n",
    "    while n >= 0:\n",
    "        ans += n\n",
    "        n-= 1\n",
    "    return ans "
   ]
  },
  {
   "cell_type": "code",
   "execution_count": 21,
   "id": "b71d3970",
   "metadata": {
    "hidden": true
   },
   "outputs": [
    {
     "data": {
      "text/plain": [
       "55"
      ]
     },
     "execution_count": 21,
     "metadata": {},
     "output_type": "execute_result"
    }
   ],
   "source": [
    "summationgame(10)"
   ]
  },
  {
   "cell_type": "code",
   "execution_count": null,
   "id": "0b3b891b",
   "metadata": {
    "hidden": true
   },
   "outputs": [],
   "source": []
  },
  {
   "cell_type": "markdown",
   "id": "d74c010b",
   "metadata": {
    "hidden": true
   },
   "source": [
    "##### Q4. Square root of a number\n",
    "\n",
    "Problem Description\n",
    "\n",
    "Given a number A. Return square root of the number if it is perfect square otherwise return -1."
   ]
  },
  {
   "cell_type": "code",
   "execution_count": 22,
   "id": "b70d6b25",
   "metadata": {
    "hidden": true
   },
   "outputs": [],
   "source": [
    "def sqrt(n):\n",
    "    \n",
    "    for i in range(1,n+1):\n",
    "        if i*i == n:\n",
    "            return i\n",
    "    return -1"
   ]
  },
  {
   "cell_type": "code",
   "execution_count": 23,
   "id": "3cce6d86",
   "metadata": {
    "hidden": true
   },
   "outputs": [
    {
     "data": {
      "text/plain": [
       "-1"
      ]
     },
     "execution_count": 23,
     "metadata": {},
     "output_type": "execute_result"
    }
   ],
   "source": [
    "sqrt(1001)"
   ]
  },
  {
   "cell_type": "code",
   "execution_count": null,
   "id": "eca437d3",
   "metadata": {
    "hidden": true
   },
   "outputs": [],
   "source": []
  },
  {
   "cell_type": "markdown",
   "id": "4a882000",
   "metadata": {
    "hidden": true
   },
   "source": [
    "##### Q5. Armstrong Numbers!\n",
    "\n",
    "Problem Description\n",
    "\n",
    "You are given an integer N you need to print all the Armstrong Numbers between 1 to N.\n",
    "\n",
    "If sum of cubes of each digit of the number is equal to the number itself, then the number is called an Armstrong number.\n",
    "\n",
    "For example, 153 = ( 1 * 1 * 1 ) + ( 5 * 5 * 5 ) + ( 3 * 3 * 3 )."
   ]
  },
  {
   "cell_type": "code",
   "execution_count": 34,
   "id": "cf75a807",
   "metadata": {
    "hidden": true
   },
   "outputs": [],
   "source": [
    "def amstrongnum(n):\n",
    "    \n",
    "    for i in range(1,n+1):\n",
    "        arm = i\n",
    "        ans = 0\n",
    "        while i != 0:\n",
    "            rem = i%10\n",
    "            ans += rem**3\n",
    "            i = i//10\n",
    "        if ans == arm :\n",
    "            print(ans)  \n",
    "        "
   ]
  },
  {
   "cell_type": "code",
   "execution_count": 35,
   "id": "0c01f2ed",
   "metadata": {
    "hidden": true
   },
   "outputs": [
    {
     "name": "stdout",
     "output_type": "stream",
     "text": [
      "1\n",
      "153\n"
     ]
    }
   ],
   "source": [
    "amstrongnum(153)"
   ]
  },
  {
   "cell_type": "code",
   "execution_count": 26,
   "id": "47cb0d97",
   "metadata": {
    "hidden": true
   },
   "outputs": [
    {
     "data": {
      "text/plain": [
       "15"
      ]
     },
     "execution_count": 26,
     "metadata": {},
     "output_type": "execute_result"
    }
   ],
   "source": [
    "153 // 10"
   ]
  },
  {
   "cell_type": "code",
   "execution_count": null,
   "id": "f845de3a",
   "metadata": {
    "hidden": true
   },
   "outputs": [],
   "source": []
  },
  {
   "cell_type": "code",
   "execution_count": 27,
   "id": "359949d4",
   "metadata": {
    "hidden": true
   },
   "outputs": [
    {
     "data": {
      "text/plain": [
       "3"
      ]
     },
     "execution_count": 27,
     "metadata": {},
     "output_type": "execute_result"
    }
   ],
   "source": [
    "153 % 10"
   ]
  },
  {
   "cell_type": "markdown",
   "id": "a90414f4",
   "metadata": {
    "heading_collapsed": true,
    "hidden": true
   },
   "source": [
    "##### Q6. Multiplication Table!\n",
    "\n",
    "Problem Description\n",
    "For a given number A, print its multiplication table having the first 10 multiples."
   ]
  },
  {
   "cell_type": "code",
   "execution_count": 37,
   "id": "ed003f20",
   "metadata": {
    "hidden": true
   },
   "outputs": [],
   "source": [
    "def multiplication(n):\n",
    "    for i in range(1 , n+1):\n",
    "        print(n , '*' , i ,'=' , n*i)"
   ]
  },
  {
   "cell_type": "code",
   "execution_count": 38,
   "id": "c15a7831",
   "metadata": {
    "hidden": true
   },
   "outputs": [
    {
     "name": "stdout",
     "output_type": "stream",
     "text": [
      "10 * 1 = 10\n",
      "10 * 2 = 20\n",
      "10 * 3 = 30\n",
      "10 * 4 = 40\n",
      "10 * 5 = 50\n",
      "10 * 6 = 60\n",
      "10 * 7 = 70\n",
      "10 * 8 = 80\n",
      "10 * 9 = 90\n",
      "10 * 10 = 100\n"
     ]
    }
   ],
   "source": [
    "multiplication(10)"
   ]
  },
  {
   "cell_type": "code",
   "execution_count": null,
   "id": "fa68cf3d",
   "metadata": {
    "hidden": true
   },
   "outputs": [],
   "source": []
  },
  {
   "cell_type": "code",
   "execution_count": null,
   "id": "5cdfab13",
   "metadata": {
    "hidden": true
   },
   "outputs": [],
   "source": []
  },
  {
   "cell_type": "code",
   "execution_count": null,
   "id": "91c4fc3c",
   "metadata": {
    "hidden": true
   },
   "outputs": [],
   "source": []
  },
  {
   "cell_type": "code",
   "execution_count": null,
   "id": "fbceb6f6",
   "metadata": {
    "hidden": true
   },
   "outputs": [],
   "source": []
  },
  {
   "cell_type": "code",
   "execution_count": null,
   "id": "8ad5efd5",
   "metadata": {
    "hidden": true
   },
   "outputs": [],
   "source": []
  },
  {
   "cell_type": "code",
   "execution_count": null,
   "id": "5ce391ff",
   "metadata": {
    "hidden": true
   },
   "outputs": [],
   "source": []
  },
  {
   "cell_type": "code",
   "execution_count": null,
   "id": "10695309",
   "metadata": {
    "hidden": true
   },
   "outputs": [],
   "source": []
  },
  {
   "cell_type": "code",
   "execution_count": null,
   "id": "a000c191",
   "metadata": {
    "hidden": true
   },
   "outputs": [],
   "source": []
  },
  {
   "cell_type": "code",
   "execution_count": null,
   "id": "6cfb2f19",
   "metadata": {
    "hidden": true
   },
   "outputs": [],
   "source": []
  },
  {
   "cell_type": "code",
   "execution_count": null,
   "id": "76ed72d0",
   "metadata": {
    "hidden": true
   },
   "outputs": [],
   "source": []
  },
  {
   "cell_type": "markdown",
   "id": "9339a7d9",
   "metadata": {},
   "source": [
    "#### Time Complexity - 1"
   ]
  },
  {
   "cell_type": "code",
   "execution_count": null,
   "id": "17f8c70f",
   "metadata": {},
   "outputs": [],
   "source": []
  }
 ],
 "metadata": {
  "kernelspec": {
   "display_name": "Python 3 (ipykernel)",
   "language": "python",
   "name": "python3"
  },
  "language_info": {
   "codemirror_mode": {
    "name": "ipython",
    "version": 3
   },
   "file_extension": ".py",
   "mimetype": "text/x-python",
   "name": "python",
   "nbconvert_exporter": "python",
   "pygments_lexer": "ipython3",
   "version": "3.9.7"
  }
 },
 "nbformat": 4,
 "nbformat_minor": 5
}
