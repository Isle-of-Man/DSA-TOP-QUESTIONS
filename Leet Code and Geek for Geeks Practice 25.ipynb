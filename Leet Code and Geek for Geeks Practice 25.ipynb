{
 "cells": [
  {
   "cell_type": "markdown",
   "id": "ac450faf",
   "metadata": {
    "heading_collapsed": true
   },
   "source": [
    "# Q1 - VALID ANAGRAM "
   ]
  },
  {
   "cell_type": "markdown",
   "id": "9618e9e8",
   "metadata": {
    "hidden": true
   },
   "source": [
    "\n",
    "Given two strings s and t, return true if t is an anagram of s, and false otherwise.\n",
    "\n",
    "An Anagram is a word or phrase formed by rearranging the letters of a different word or phrase, typically using all the original letters exactly once.\n",
    "\n",
    " \n",
    "\n",
    "Example 1:\n",
    "\n",
    "Input: s = \"anagram\", t = \"nagaram\"\n",
    "Output: true\n",
    "Example 2:\n",
    "\n",
    "Input: s = \"rat\", t = \"car\"\n",
    "Output: false"
   ]
  },
  {
   "cell_type": "code",
   "execution_count": null,
   "id": "c38525d8",
   "metadata": {
    "hidden": true
   },
   "outputs": [],
   "source": [
    "def isAnagram(s, t):\n",
    "    n = len(s)\n",
    "    r = len(t)\n",
    "    \n",
    "    if n != r :\n",
    "        return False \n",
    "   \n",
    "    dict1 , dict2 = {} , {}\n",
    "    for i in range(n):\n",
    "        dict1[s[i]] = 1 + get(s[i] , 0) #new method .get() - does not pull out error in case the value is absent in the dict\n",
    "        dict2[t[i]] = 1 + get(t[i] , 0)\n",
    "        \n",
    "    for i in dict1:\n",
    "        if dict1[i] != dict2.get(i , 0):\n",
    "            return False\n",
    "    return True \n",
    "\n",
    " "
   ]
  },
  {
   "cell_type": "code",
   "execution_count": null,
   "id": "81730be5",
   "metadata": {
    "hidden": true
   },
   "outputs": [],
   "source": [
    "def isAnagram(s, t):\n",
    "    n = len(s)\n",
    "    r = len(t)\n",
    "    \n",
    "    if n != r :\n",
    "        return False \n",
    "   \n",
    "    dict1 , dict2 = {} , {}\n",
    "    for i in range(n):\n",
    "        if s[i] in dict1:\n",
    "            dict1[s[i]] += 1\n",
    "        else:\n",
    "            dict1[s[i]] = 1\n",
    "            \n",
    "    for i in range(r):\n",
    "        if t[i] in dict2:\n",
    "            dict2[t[i]] += 1\n",
    "        else:\n",
    "            dict2[t[i]] = 1\n",
    "            \n",
    "    for i in dict1:\n",
    "         if i not in dict2:\n",
    "            return False\n",
    "         else:\n",
    "            if dict1[i] != dict2[i]:\n",
    "                return False\n",
    "    return True "
   ]
  },
  {
   "cell_type": "code",
   "execution_count": null,
   "id": "386a334a",
   "metadata": {
    "hidden": true
   },
   "outputs": [],
   "source": [
    "s = \"anagram\" \n",
    "t = \"nagaram\"\n",
    "isAnagram(s,t) "
   ]
  },
  {
   "cell_type": "markdown",
   "id": "137e2d28",
   "metadata": {
    "hidden": true
   },
   "source": [
    "##### sorted method"
   ]
  },
  {
   "cell_type": "code",
   "execution_count": null,
   "id": "b02612f9",
   "metadata": {
    "hidden": true
   },
   "outputs": [],
   "source": [
    "def isAnagram1(s: str, t: str):\n",
    "    if sorted(s) == sorted(t):\n",
    "        return True "
   ]
  },
  {
   "cell_type": "markdown",
   "id": "fc12ee36",
   "metadata": {
    "heading_collapsed": true
   },
   "source": [
    "# Q2 - TWO SUM"
   ]
  },
  {
   "cell_type": "markdown",
   "id": "fa680ebd",
   "metadata": {
    "hidden": true
   },
   "source": [
    "we need to find the pair of the two elements from the given list whose sum is equal to the given target value. "
   ]
  },
  {
   "cell_type": "code",
   "execution_count": null,
   "id": "2ffaeb66",
   "metadata": {
    "hidden": true
   },
   "outputs": [],
   "source": [
    "def twoSum(nums, target):\n",
    "    prevMap = {} #storing the value and index \n",
    "    \n",
    "    for i , n in enumerate(nums): #taking the value and num from nums \n",
    "        difference = target - n   \n",
    "        if difference in prevMap:\n",
    "            return [prevMap[difference] , i]  #returning the index of n from dict and the i \n",
    "        prevMap[n] = i                        #updating the value of n in dic with index\n",
    "    \n",
    "twoSum([2,11,15,7] , 9)        "
   ]
  },
  {
   "cell_type": "markdown",
   "id": "6defc5d5",
   "metadata": {
    "heading_collapsed": true
   },
   "source": [
    "# Q3 - MAXIMUM SUBARRAY"
   ]
  },
  {
   "cell_type": "markdown",
   "id": "d4198f41",
   "metadata": {
    "hidden": true
   },
   "source": [
    "Given an integer array nums, find the contiguous subarray (containing at least one number) which has the largest sum and return its sum.\n",
    "\n",
    "A subarray is a contiguous part of an array.\n",
    "\n",
    " \n",
    "\n",
    "Example 1:\n",
    "\n",
    "Input: nums = [-2,1,-3,4,-1,2,1,-5,4]\n",
    "Output: 6\n",
    "Explanation: [4,-1,2,1] has the largest sum = 6."
   ]
  },
  {
   "cell_type": "code",
   "execution_count": null,
   "id": "d77b5603",
   "metadata": {
    "hidden": true
   },
   "outputs": [],
   "source": [
    "nums = [-2,1,-3,4,-1,2,1,-5,4]\n",
    "curr_sum = 0                      # created a current sum and max sum \n",
    "max_sum = nums[0]                  \n",
    "    \n",
    "for num in nums:                   #iterated through the array and checked the sum at each point \n",
    "    if curr_sum < 0:               # when the negative values came it converted curr sum to zero \n",
    "        curr_sum = 0\n",
    "    curr_sum += num \n",
    "    max_sum = max(max_sum , curr_sum) # checked which is the max \n",
    "    \n",
    "print(max_sum)"
   ]
  },
  {
   "cell_type": "markdown",
   "id": "a2170c14",
   "metadata": {
    "heading_collapsed": true
   },
   "source": [
    "# Q4 - TWO SUM II"
   ]
  },
  {
   "cell_type": "markdown",
   "id": "1f51d597",
   "metadata": {
    "hidden": true
   },
   "source": [
    "Given a 1-indexed array of integers numbers that is already sorted in non-decreasing order, find two numbers such that they add up to a specific target number. Let these two numbers be numbers[index1] and numbers[index2] where 1 <= index1 < index2 <= numbers.length.\n",
    "\n",
    "Return the indices of the two numbers, index1 and index2, added by one as an integer array [index1, index2] of length 2.\n",
    "\n",
    "The tests are generated such that there is exactly one solution. You may not use the same element twice.\n",
    "\n",
    "Your solution must use only constant extra space.\n",
    "\n",
    " \n",
    "\n",
    "Example 1:\n",
    "\n",
    "Input: numbers = [2,7,11,15], target = 9\n",
    "Output: [1,2]\n",
    "Explanation: The sum of 2 and 7 is 9. Therefore, index1 = 1, index2 = 2. We return [1, 2].\n",
    "Example 2:\n",
    "\n",
    "Input: numbers = [2,3,4], target = 6\n",
    "Output: [1,3]\n",
    "Explanation: The sum of 2 and 4 is 6. Therefore index1 = 1, index2 = 3. We return [1, 3]."
   ]
  },
  {
   "cell_type": "code",
   "execution_count": null,
   "id": "34010353",
   "metadata": {
    "hidden": true
   },
   "outputs": [],
   "source": [
    "# GIVEN 1 INDEXED ARRAY \n",
    "# BRUT FORCE CAN BE ITERATE THROUGH EACH PAIR AND CHECK - O(N^2)\n",
    "# TWO POINTER APPROACH - TWO POINTS AT TWO ENDS - \n",
    "# INCREASE THE LEFT POINTER IF SUM OF 2 POINTER < TARGET, LEFT SHIFT THE POINTER IF SUM OF POINTER > TARGET\n",
    "\n",
    "def TWOSUM(numbers ,target):\n",
    "\n",
    "    left_pointer = 0\n",
    "    right_pointer = len(numbers) - 1\n",
    "\n",
    "    while left_pointer < right_pointer :\n",
    "        summ = numbers[left_pointer] + numbers[right_pointer]\n",
    "\n",
    "        if summ > target :\n",
    "            right_pointer -= 1\n",
    "        elif summ < target :\n",
    "            left_pointer += 1\n",
    "        else:\n",
    "            return (left_pointer +1 , right_pointer + 1)"
   ]
  },
  {
   "cell_type": "markdown",
   "id": "bb341537",
   "metadata": {
    "heading_collapsed": true
   },
   "source": [
    "# Q5 - HOUSE ROBBER"
   ]
  },
  {
   "cell_type": "markdown",
   "id": "71bcd9c7",
   "metadata": {
    "hidden": true
   },
   "source": [
    "You are a professional robber planning to rob houses along a street. Each house has a certain amount of money stashed, the only constraint stopping you from robbing each of them is that adjacent houses have security systems connected and it will automatically contact the police if two adjacent houses were broken into on the same night.\n",
    "\n",
    "Given an integer array nums representing the amount of money of each house, return the maximum amount of money you can rob tonight without alerting the police.\n",
    "\n",
    " \n",
    "\n",
    "Example 1:\n",
    "\n",
    "Input: nums = [1,2,3,1]\n",
    "Output: 4\n",
    "Explanation: Rob house 1 (money = 1) and then rob house 3 (money = 3).\n",
    "Total amount you can rob = 1 + 3 = 4.\n",
    "Example 2:\n",
    "\n",
    "Input: nums = [2,7,9,3,1]\n",
    "Output: 12\n",
    "Explanation: Rob house 1 (money = 2), rob house 3 (money = 9) and rob house 5 (money = 1).\n",
    "Total amount you can rob = 2 + 9 + 1 = 12."
   ]
  },
  {
   "cell_type": "markdown",
   "id": "0fad18fc",
   "metadata": {
    "hidden": true
   },
   "source": [
    "##### explanation\n",
    "- if the array is empty - noting to steal \n",
    "- if the array consist of only 1 element -  max t steal is that itself \n",
    "- if the array has 2 elements - max to steal is the max of a 2 elements \n",
    "- IMP - if arra has 3 elements - max steal is either the 2nd value or the sum of 1st + 3rd."
   ]
  },
  {
   "cell_type": "code",
   "execution_count": null,
   "id": "ed012a2d",
   "metadata": {
    "hidden": true
   },
   "outputs": [],
   "source": [
    "def rob(self, nums):\n",
    "    if not nums:\n",
    "        return 0\n",
    "    if len(nums) <= 2:\n",
    "        return max(nums)\n",
    "    \n",
    "    dp = [0] * len(nums)             #creating a new array to play with \n",
    "    \n",
    "    dp[0] = nums[0]                  #putting the 1st value of nums as 1st in dp\n",
    "    dp[1] = max(nums[0] , nums[1])   #putting the max of 1 and 2 in nums as 2nd in dp\n",
    "    \n",
    "    for i in range(2 , len(nums)):   # iterating nums from 3rd value till last \n",
    "        dp[i] = max(dp[i-1] , num[i] + dp[i-2]) # so third value should be max od 3rd plus 1st(num[i] + dp[i-2]) or second (dp[i-1]) \n",
    "        \n",
    "    return dp[-1]  #returning the last element as it will be the largest "
   ]
  },
  {
   "cell_type": "code",
   "execution_count": null,
   "id": "51994ef1",
   "metadata": {
    "hidden": true
   },
   "outputs": [],
   "source": [
    "def rob(self, nums): \n",
    "    prev = 0 \n",
    "    curr = 0 \n",
    "    for num in nums:\n",
    "        temp = prev\n",
    "        prev = curr\n",
    "        curr = max(num + temp , prev )\n",
    "    return curr "
   ]
  },
  {
   "cell_type": "markdown",
   "id": "33e6052f",
   "metadata": {
    "heading_collapsed": true
   },
   "source": [
    "# Q6 - COMMON ELEMENTS"
   ]
  },
  {
   "cell_type": "code",
   "execution_count": null,
   "id": "a51105cc",
   "metadata": {
    "hidden": true,
    "scrolled": true
   },
   "outputs": [],
   "source": [
    "from collections import Counter\n",
    "\n",
    "A = [ 1,1,1,2,2,2,3,3,5,7 ]\n",
    "B = [ 1,1,2,2,3,3,3,8,7 ]\n",
    "res = []\n",
    "\n",
    "freqA = Counter(A)\n",
    "freqB = Counter(B)\n",
    "\n",
    "# print(freqA,freqB)\n",
    "    \n",
    "commondict = freqA & freqB\n",
    "\n",
    "for (key , val) in commondict.items():\n",
    "    for i in range(0, val):\n",
    "        res.append(key)\n",
    "print(res)\n"
   ]
  },
  {
   "cell_type": "code",
   "execution_count": null,
   "id": "cab4f52c",
   "metadata": {
    "hidden": true
   },
   "outputs": [],
   "source": [
    "freqA , freqB = {} , {}\n",
    "for i in range(len(A)):\n",
    "    if A[i] in freqA:\n",
    "        freqA[A[i]] += 1\n",
    "    else:\n",
    "        freqA[A[i]] = 1\n",
    "\n",
    "for i in range(len(B)):\n",
    "    if B[i] in freqB:\n",
    "        freqB[B[i]] += 1\n",
    "    else:\n",
    "        freqB[B[i]] = 1\n",
    "        \n",
    "print(freqA,freqB)\n",
    "{1: 3, 2: 3, 3: 2, 5: 1, 7: 1} {1: 2, 2: 2, 3: 3, 8: 1, 7: 1}"
   ]
  },
  {
   "cell_type": "markdown",
   "id": "aa913a1d",
   "metadata": {
    "heading_collapsed": true
   },
   "source": [
    "# Q7 - MERGE TWO LISTS"
   ]
  },
  {
   "cell_type": "markdown",
   "id": "6842e01f",
   "metadata": {
    "hidden": true
   },
   "source": [
    "You are given the heads of two sorted linked lists list1 and list2.\n",
    "\n",
    "Merge the two lists in a one sorted list. The list should be made by splicing together the nodes of the first two lists.\n",
    "\n",
    "Return the head of the merged linked list.\n",
    "\n",
    "Input: list1 = [1,2,4], list2 = [1,3,4]\n",
    "Output: [1,1,2,3,4,4]"
   ]
  },
  {
   "cell_type": "code",
   "execution_count": null,
   "id": "8bfa171f",
   "metadata": {
    "hidden": true
   },
   "outputs": [],
   "source": [
    "def mergeTwoLists(l1, l2):\n",
    "    dummy = ListNode()\n",
    "    tail = dummy\n",
    "\n",
    "    while l1 and l2 :\n",
    "        if l1.val < l2.val :\n",
    "            tail.next = l1\n",
    "            l1 = l1.next\n",
    "\n",
    "        else:\n",
    "            tail.next = l2\n",
    "            l2 = l2.next\n",
    "            \n",
    "        tail = tail.next\n",
    "        \n",
    "    if l1:\n",
    "        tail.next = l1\n",
    "\n",
    "    elif l2:\n",
    "        tail.next = l2\n",
    "        \n",
    "    return dummy.next\n",
    "\n",
    "# mergeTwoLists([1,2,4] , [1,3,4])   "
   ]
  },
  {
   "cell_type": "code",
   "execution_count": null,
   "id": "1911a9b3",
   "metadata": {
    "hidden": true
   },
   "outputs": [],
   "source": []
  },
  {
   "cell_type": "markdown",
   "id": "edbde21d",
   "metadata": {
    "heading_collapsed": true
   },
   "source": [
    "# Q8 - BEST TIME TO BUY & SELL STOCK"
   ]
  },
  {
   "cell_type": "markdown",
   "id": "c2f20c50",
   "metadata": {
    "hidden": true
   },
   "source": [
    "You are given an array prices where prices[i] is the price of a given stock on the ith day.\n",
    "\n",
    "You want to maximize your profit by choosing a single day to buy one stock and choosing a different day in the future to sell that stock.\n",
    "\n",
    "Return the maximum profit you can achieve from this transaction. If you cannot achieve any profit, return 0.\n",
    "\n",
    " \n",
    "\n",
    "Example 1:\n",
    "\n",
    "Input: prices = [7,1,5,3,6,4]\n",
    "Output: 5\n",
    "Explanation: Buy on day 2 (price = 1) and sell on day 5 (price = 6), profit = 6-1 = 5.\n",
    "Note that buying on day 2 and selling on day 1 is not allowed because you must buy before you sell."
   ]
  },
  {
   "cell_type": "code",
   "execution_count": null,
   "id": "80ada580",
   "metadata": {
    "hidden": true
   },
   "outputs": [],
   "source": [
    "# 2 pointer approach \n",
    "\n",
    "def maxProfit(prices):    \n",
    "    buy = 0\n",
    "    sell = 1 \n",
    "    max_profit = 0\n",
    "    for stocks in prices:\n",
    "        if prices[buy] > prices[sell]:\n",
    "            buy = sell\n",
    "            sell += 1\n",
    "        if prices[buy] < prices[sell]:\n",
    "            max_profit = max((prices[sell] - prices[buy]) , max_profit)\n",
    "            sell += 1\n",
    "        return max_profit\n",
    "    \n",
    "maxProfit([7,1,5,3,6,4])"
   ]
  },
  {
   "cell_type": "code",
   "execution_count": null,
   "id": "0809dec0",
   "metadata": {
    "hidden": true
   },
   "outputs": [],
   "source": []
  },
  {
   "cell_type": "markdown",
   "id": "2ea6fdbb",
   "metadata": {
    "heading_collapsed": true
   },
   "source": [
    "# Q9 - MERGE SORTED ARRAY"
   ]
  },
  {
   "cell_type": "markdown",
   "id": "7739c142",
   "metadata": {
    "hidden": true
   },
   "source": [
    "You are given two integer arrays nums1 and nums2, sorted in non-decreasing order, and two integers m and n, representing the number of elements in nums1 and nums2 respectively.\n",
    "\n",
    "Merge nums1 and nums2 into a single array sorted in non-decreasing order.\n",
    "\n",
    "The final sorted array should not be returned by the function, but instead be stored inside the array nums1. To accommodate this, nums1 has a length of m + n, where the first m elements denote the elements that should be merged, and the last n elements are set to 0 and should be ignored. nums2 has a length of n.\n",
    "\n",
    " \n",
    "\n",
    "Example 1:\n",
    "\n",
    "Input: nums1 = [1,2,3,0,0,0], m = 3, nums2 = [2,5,6], n = 3\n",
    "Output: [1,2,2,3,5,6]\n",
    "Explanation: The arrays we are merging are [1,2,3] and [2,5,6].\n",
    "The result of the merge is [1,2,2,3,5,6] with the underlined elements coming from nums1."
   ]
  },
  {
   "cell_type": "code",
   "execution_count": null,
   "id": "90eaa1bd",
   "metadata": {
    "hidden": true
   },
   "outputs": [],
   "source": [
    "def merge(nums1 ,nums2 , m , n):\n",
    "    \n",
    "    last = n + m - 1 # replacing the last value of element with the largest of both ends \n",
    "    while n > 0 and m > 0 :    #loop should run till this breaks \n",
    "        if nums1[m-1] > nums2[n-1]: #checking the last number from both array\n",
    "            nums1[last] = nums1[m-1] #replacing the nums1 val to the last of nums 1 \n",
    "            m -= 1 #decrementing the pointer \n",
    "        else:\n",
    "            nums1[last] = nums2[n-1] #replacing the nums2 value with the last of nums1 \n",
    "            n -= 1\n",
    "        last -= 1 #decrementing the last pointer to fill the second last point \n",
    "        \n",
    "    #edge condition : what if there are elements left in nums 2 even after checking with nums 1 \n",
    "    while n > 0 :\n",
    "        nums1[last] = nums2[n-1] #putting the remaining elements one by one \n",
    "        n -= 1\n",
    "        last -= 1\n",
    "    return nums1\n"
   ]
  },
  {
   "cell_type": "code",
   "execution_count": null,
   "id": "7dd9a8bb",
   "metadata": {
    "hidden": true
   },
   "outputs": [],
   "source": [
    "merge([1,2,3,0,0,0] ,[2,5,6] , 3 , 3)\n"
   ]
  },
  {
   "cell_type": "code",
   "execution_count": null,
   "id": "41ac8418",
   "metadata": {
    "hidden": true
   },
   "outputs": [],
   "source": []
  },
  {
   "cell_type": "markdown",
   "id": "c9a1886f",
   "metadata": {
    "heading_collapsed": true
   },
   "source": [
    "# Q10 - CLIMBING STAIRS"
   ]
  },
  {
   "cell_type": "markdown",
   "id": "824cc1dc",
   "metadata": {
    "hidden": true
   },
   "source": [
    "You are climbing a staircase. It takes n steps to reach the top.\n",
    "\n",
    "Each time you can either climb 1 or 2 steps. In how many distinct ways can you climb to the top?\n",
    "\n",
    " \n",
    "\n",
    "Example 1:\n",
    "\n",
    "Input: n = 2\n",
    "Output: 2\n",
    "Explanation: There are two ways to climb to the top.\n",
    "1. 1 step + 1 step\n",
    "2. 2 steps\n",
    "\n",
    "Input: n = 3\n",
    "Output: 3\n",
    "Explanation: There are three ways to climb to the top.\n",
    "1. 1 step + 1 step + 1 step\n",
    "2. 1 step + 2 steps\n",
    "3. 2 steps + 1 step"
   ]
  },
  {
   "cell_type": "code",
   "execution_count": null,
   "id": "f26c892d",
   "metadata": {
    "hidden": true
   },
   "outputs": [],
   "source": [
    "# https://www.youtube.com/watch?v=Y0lT9Fck7qI&list=PLot-Xpze53lfQmTEztbgdp8ALEoydvnRQ&index=9\n",
    "# explanation is simple fibinocci but watch the video for more understanding\n",
    "\n",
    "def climbStairs( n ):\n",
    "    one = 1\n",
    "    two = 1 \n",
    "    for i in range(n-1):\n",
    "        temp = one \n",
    "        one = one + two \n",
    "        two = temp\n",
    "    return one \n"
   ]
  },
  {
   "cell_type": "code",
   "execution_count": null,
   "id": "403ab752",
   "metadata": {
    "hidden": true
   },
   "outputs": [],
   "source": [
    "climbStairs(7)"
   ]
  },
  {
   "cell_type": "markdown",
   "id": "1cdde5b5",
   "metadata": {
    "heading_collapsed": true
   },
   "source": [
    "# Q11 - REVERSE LINK LIST"
   ]
  },
  {
   "cell_type": "markdown",
   "id": "47150e46",
   "metadata": {
    "hidden": true
   },
   "source": [
    "Given the head of a singly linked list, reverse the list, and return the reversed list.\n",
    "\n",
    " \n",
    "\n",
    "Example 1:\n",
    "\n",
    "\n",
    "Input: head = [1,2,3,4,5]\n",
    "Output: [5,4,3,2,1]\n",
    "Example 2:\n",
    "\n",
    "\n",
    "Input: head = [1,2]\n",
    "Output: [2,1]"
   ]
  },
  {
   "cell_type": "code",
   "execution_count": null,
   "id": "f587951e",
   "metadata": {
    "hidden": true
   },
   "outputs": [],
   "source": [
    "def reverseList(head):\n",
    "    prev = None\n",
    "    curr = head\n",
    "    \n",
    "    while curr :\n",
    "        temp = currr.next\n",
    "        curr.next = prev \n",
    "        prev = curr\n",
    "        curr = temp\n",
    "    return prev\n",
    "        \n",
    "        "
   ]
  },
  {
   "cell_type": "code",
   "execution_count": null,
   "id": "33aacc07",
   "metadata": {
    "hidden": true
   },
   "outputs": [],
   "source": [
    "Recursive "
   ]
  },
  {
   "cell_type": "markdown",
   "id": "1182d3ce",
   "metadata": {
    "heading_collapsed": true
   },
   "source": [
    "# Q12 - PEAK ELEMENT "
   ]
  },
  {
   "cell_type": "markdown",
   "id": "571e85b1",
   "metadata": {
    "hidden": true
   },
   "source": [
    "A peak element is an element that is strictly greater than its neighbors.\n",
    "\n",
    "Given a 0-indexed integer array nums, find a peak element, and return its index. If the array contains multiple peaks, return the index to any of the peaks.\n",
    "\n",
    "You may imagine that nums[-1] = nums[n] = -∞. In other words, an element is always considered to be strictly greater than a neighbor that is outside the array.\n",
    "\n",
    "You must write an algorithm that runs in O(log n) time.\n",
    "\n",
    " \n",
    "\n",
    "Example 1:\n",
    "\n",
    "Input: nums = [1,2,3,1]\n",
    "Output: 2\n",
    "Explanation: 3 is a peak element and your function should return the index number 2.\n",
    "Example 2:\n",
    "\n",
    "Input: nums = [1,2,1,3,5,6,4]\n",
    "Output: 5\n",
    "Explanation: Your function can return either index number 1 where the peak element is 2, or index number 5 where the peak element is 6."
   ]
  },
  {
   "cell_type": "code",
   "execution_count": null,
   "id": "4fd6f138",
   "metadata": {
    "hidden": true
   },
   "outputs": [],
   "source": [
    "arr = [1,2,1,3,5,6,4]    #linear time complexity \n",
    "\n",
    "for x in range(len(arr)):\n",
    "    if (x == 0 or arr[x] > arr[x - 1]) and (x == len(arr)-1 or arr[x] > arr[x + 1]):\n",
    "        print(x) \n",
    "    "
   ]
  },
  {
   "cell_type": "code",
   "execution_count": null,
   "id": "9992d39f",
   "metadata": {
    "hidden": true
   },
   "outputs": [],
   "source": [
    "#time complexity (0logn)\n",
    "nums = [1,2,1,3,5,6,4] \n",
    "\n",
    "l , r = 0 , len(nums) - 1\n",
    "\n",
    "while l < r:\n",
    "    mid = (l+r)//2\n",
    "\n",
    "    if nums[mid] < nums[mid+1]:\n",
    "        l = mid + 1\n",
    "    else:\n",
    "        r = mid\n",
    "print(l)"
   ]
  },
  {
   "cell_type": "code",
   "execution_count": null,
   "id": "eedb1ecc",
   "metadata": {
    "hidden": true
   },
   "outputs": [],
   "source": []
  },
  {
   "cell_type": "markdown",
   "id": "cca2d0a1",
   "metadata": {
    "heading_collapsed": true
   },
   "source": [
    "# Q13 - DUPLICATE IN AN ARRAY"
   ]
  },
  {
   "cell_type": "markdown",
   "id": "17262b2a",
   "metadata": {
    "hidden": true
   },
   "source": [
    "Given an integer array nums of length n where all the integers of nums are in the range [1, n] and each integer appears once or twice, return an array of all the integers that appears twice.\n",
    "\n",
    "You must write an algorithm that runs in O(n) time and uses only constant extra space.\n",
    "\n",
    " \n",
    "\n",
    "Example 1:\n",
    "\n",
    "Input: nums = [4,3,2,7,8,2,3,1]\n",
    "Output: [2,3]\n",
    "Example 2:\n",
    "\n",
    "Input: nums = [1,1,2]\n",
    "Output: [1]\n",
    "Example 3:\n",
    "\n",
    "Input: nums = [1]\n",
    "Output: []"
   ]
  },
  {
   "cell_type": "code",
   "execution_count": null,
   "id": "2143c648",
   "metadata": {
    "hidden": true
   },
   "outputs": [],
   "source": [
    "nums = [4,3,2,7,8,2,3,1]\n",
    "dict1 = {}\n",
    "res = []\n",
    "for i in range(len(nums)):\n",
    "    if nums[i] in dict1:\n",
    "        dict1[nums[i]] += 1\n",
    "        \n",
    "    else:\n",
    "        dict1[nums[i]] = 1\n",
    "        \n",
    "for (key,values) in dict1.items():\n",
    "    if values > 1:\n",
    "        res.append(key)\n",
    "print(res)"
   ]
  },
  {
   "cell_type": "code",
   "execution_count": null,
   "id": "85926b63",
   "metadata": {
    "hidden": true
   },
   "outputs": [],
   "source": [
    "nums = [4,3,2,7,8,2,3,1]\n",
    "output = []\n",
    "\n",
    "for n in nums:\n",
    "    m = abs(n)\n",
    "    \n",
    "    if nums[m-1] < 0 :     # can encounter list index out of range for values greater than n\n",
    "        output.append(m)\n",
    "    else:\n",
    "        nums[m-1]*= -1\n",
    "print(output)"
   ]
  },
  {
   "cell_type": "code",
   "execution_count": null,
   "id": "2f1292e3",
   "metadata": {
    "hidden": true
   },
   "outputs": [],
   "source": []
  },
  {
   "cell_type": "markdown",
   "id": "30a3925c",
   "metadata": {
    "heading_collapsed": true
   },
   "source": [
    "# Q14 - COUNT PAIRS WITH GIVEN SUM"
   ]
  },
  {
   "cell_type": "markdown",
   "id": "e6ce672a",
   "metadata": {
    "hidden": true
   },
   "source": [
    "Given an array of N integers, and an integer K, find the number of pairs of elements in the array whose sum is equal to K.\n",
    "\n",
    "\n",
    "Example 1:\n",
    "\n",
    "Input:\n",
    "N = 4, K = 6\n",
    "arr[] = {1, 5, 7, 1}\n",
    "Output: 2\n",
    "Explanation: \n",
    "arr[0] + arr[1] = 1 + 5 = 6 \n",
    "and arr[1] + arr[3] = 5 + 1 = 6.\n",
    "\n",
    "Example 2:\n",
    "\n",
    "Input:\n",
    "N = 4, K = 2\n",
    "arr[] = {1, 1, 1, 1}\n",
    "Output: 6\n",
    "Explanation: \n",
    "Each 1 will produce sum 2 with any 1."
   ]
  },
  {
   "cell_type": "code",
   "execution_count": null,
   "id": "65c4bfb4",
   "metadata": {
    "hidden": true
   },
   "outputs": [],
   "source": [
    "arr = [1, 5, 7, 1]\n",
    "k = 6\n",
    "n = len(arr)\n",
    "freq_map = {}\n",
    "\n",
    "# Store the frequency of each element\n",
    "for i in range(n):\n",
    "    if arr[i] in freq_map:\n",
    "        freq_map[arr[i]] += 1\n",
    "    else:\n",
    "        freq_map[arr[i]] = 1\n",
    "        \n",
    "# Step 2\n",
    "#go through each element in the dic created searching for the sum - each element in arr. add frq of found vals in counter \n",
    "#sice we are double counting certain elements in each position (# Exclude the pairs having same index) we have to subtract count\n",
    "#finally return the counts but divide it by 2 since we double counted it. \n",
    "count = 0\n",
    "\n",
    "# Count the number of valid pairs\n",
    "for i in range(n):\n",
    "    complement = k - arr[i]\n",
    "    if complement in freq_map:\n",
    "        count += freq_map[complement]\n",
    "\n",
    "    # Exclude the pairs having same index\n",
    "    if complement == arr[i]:\n",
    "        count -= 1\n",
    "print(count//2)"
   ]
  },
  {
   "cell_type": "code",
   "execution_count": null,
   "id": "df852b69",
   "metadata": {
    "hidden": true
   },
   "outputs": [],
   "source": [
    "arr = [1,1,1,1]\n",
    "k = 2\n",
    "n = len(arr)\n",
    "freq_map = {}\n",
    "\n",
    "# Store the frequency of each element\n",
    "for i in range(n):\n",
    "    if arr[i] in freq_map:\n",
    "        freq_map[arr[i]] += 1\n",
    "    else:\n",
    "        freq_map[arr[i]] = 1\n",
    "        \n",
    "# Step 2\n",
    "\n",
    "count = 0\n",
    "\n",
    "# Count the number of valid pairs\n",
    "for i in range(n):\n",
    "    complement = k - arr[i]\n",
    "    if complement in freq_map:\n",
    "        count += freq_map[complement]\n",
    "\n",
    "    # Exclude the pairs having same index\n",
    "    if complement == arr[i]:\n",
    "        count -= 1\n",
    "print(count//2)"
   ]
  },
  {
   "cell_type": "code",
   "execution_count": null,
   "id": "08e379f0",
   "metadata": {
    "hidden": true
   },
   "outputs": [],
   "source": []
  },
  {
   "cell_type": "markdown",
   "id": "4fa1a10e",
   "metadata": {
    "heading_collapsed": true
   },
   "source": [
    "# Q15 - PALINDROME STRING"
   ]
  },
  {
   "cell_type": "markdown",
   "id": "8ab8c684",
   "metadata": {
    "hidden": true
   },
   "source": [
    "Given a string S, check if it is palindrome or not.\n",
    "\n",
    "Example 1:\n",
    "\n",
    "Input: S = \"abba\"\n",
    "Output: 1\n",
    "Explanation: S is a palindrome\n",
    "Example 2:\n",
    "\n",
    "Input: S = \"abc\" \n",
    "Output: 0\n",
    "Explanation: S is not a palindrome"
   ]
  },
  {
   "cell_type": "code",
   "execution_count": null,
   "id": "ca8174ae",
   "metadata": {
    "hidden": true
   },
   "outputs": [],
   "source": [
    "S = \"abba\"\n",
    "l , r = 0 , len(S)-1\n",
    "\n",
    "while l<r:\n",
    "    if S[l] != S[r]:\n",
    "        print('NOOOO!!!!!')\n",
    "    else:\n",
    "        l += 1\n",
    "        r -= 1\n",
    "print('YESSSS')"
   ]
  },
  {
   "cell_type": "code",
   "execution_count": null,
   "id": "1a6ba4e4",
   "metadata": {
    "hidden": true
   },
   "outputs": [],
   "source": []
  },
  {
   "cell_type": "markdown",
   "id": "8313a066",
   "metadata": {
    "heading_collapsed": true
   },
   "source": [
    "# Q16 - NON REPEATING CHARACTER"
   ]
  },
  {
   "cell_type": "markdown",
   "id": "af816841",
   "metadata": {
    "hidden": true
   },
   "source": [
    "Given a string S consisting of lowercase Latin Letters. Return the first non-repeating character in S. If there is no non-repeating character, return '$'.\n",
    "\n",
    "Example 1:\n",
    "\n",
    "Input:\n",
    "S = hello\n",
    "Output: h\n",
    "Explanation: In the given string, the\n",
    "first character which is non-repeating\n",
    "is h, as it appears first and there is\n",
    "no other 'h' in the string.\n",
    "Example 2:\n",
    "\n",
    "Input:\n",
    "S = zxvczbtxyzvy\n",
    "Output: c\n",
    "Explanation: In the given string, 'c' is\n",
    "the character which is non-repeating. "
   ]
  },
  {
   "cell_type": "code",
   "execution_count": null,
   "id": "09103d07",
   "metadata": {
    "hidden": true
   },
   "outputs": [],
   "source": [
    "arr = 'zxvczbtxyzvy'\n",
    "n = len(arr)\n",
    "freq_map = {}\n",
    "res = ''\n",
    "# Store the frequency of each element\n",
    "for i in range(n):\n",
    "    if arr[i] in freq_map:\n",
    "        freq_map[arr[i]] += 1\n",
    "    else:\n",
    "        freq_map[arr[i]] = 1\n",
    "        \n",
    "for (key , values) in freq_map.items():\n",
    "    if values == 1:\n",
    "        \n",
    "#IF IT ASKES TO RETURN THE INDEX     \n",
    "# for i in range(len(s)):\n",
    "#     if hash_table[s[i]] == 1:\n",
    "#         return i\n",
    "# return -1\n",
    "\n",
    "        print(key)\n",
    "        break\n",
    "\n"
   ]
  },
  {
   "cell_type": "code",
   "execution_count": null,
   "id": "70fb437d",
   "metadata": {
    "hidden": true
   },
   "outputs": [],
   "source": [
    "arr = 'hello'\n",
    "n = len(arr)\n",
    "freq_map = {}\n",
    "res = ''\n",
    "# Store the frequency of each element\n",
    "for i in range(n):\n",
    "    if arr[i] in freq_map:\n",
    "        freq_map[arr[i]] += 1\n",
    "    else:\n",
    "        freq_map[arr[i]] = 1\n",
    "        \n",
    "for (key , values) in freq_map.items():\n",
    "    if values == 1:\n",
    "        \n",
    "        print(key)\n",
    "        break\n"
   ]
  },
  {
   "cell_type": "code",
   "execution_count": null,
   "id": "a141808e",
   "metadata": {
    "hidden": true
   },
   "outputs": [],
   "source": []
  },
  {
   "cell_type": "markdown",
   "id": "f9503aa6",
   "metadata": {
    "heading_collapsed": true
   },
   "source": [
    "# Q17 - LONGEST DISTICT CHARECTERS IN STRING"
   ]
  },
  {
   "cell_type": "markdown",
   "id": "1024daad",
   "metadata": {
    "hidden": true
   },
   "source": [
    "Given a string s, find the length of the longest substring without repeating characters.\n",
    "\n",
    " \n",
    "\n",
    "Example 1:\n",
    "\n",
    "Input: s = \"abcabcbb\"\n",
    "Output: 3\n",
    "Explanation: The answer is \"abc\", with the length of 3.\n",
    "Example 2:\n",
    "\n",
    "Input: s = \"bbbbb\"\n",
    "Output: 1\n",
    "Explanation: The answer is \"b\", with the length of 1.\n",
    "Example 3:\n",
    "\n",
    "Input: s = \"pwwkew\"\n",
    "Output: 3\n",
    "Explanation: The answer is \"wke\", with the length of 3.\n",
    "Notice that the answer must be a substring, \"pwke\" is a subsequence and not a substring."
   ]
  },
  {
   "cell_type": "code",
   "execution_count": null,
   "id": "f3675d43",
   "metadata": {
    "hidden": true
   },
   "outputs": [],
   "source": [
    "def lengthOfLongestSubstring(s):\n",
    "    charset = set()                 \n",
    "    l = 0 \n",
    "    res = 0 \n",
    "    for r in range(len(s)):\n",
    "        while s[r] in charset:\n",
    "            charset.remove(s[l])\n",
    "            l += 1\n",
    "        charset.add(s[r])\n",
    "        res = max(res , r-l+1)\n",
    "    return res\n",
    "\n",
    "lengthOfLongestSubstring('bbbbb')"
   ]
  },
  {
   "cell_type": "markdown",
   "id": "f23acbee",
   "metadata": {
    "heading_collapsed": true
   },
   "source": [
    "# Q18 - MINIMUM WINDOW SUBSTRING(*)"
   ]
  },
  {
   "cell_type": "markdown",
   "id": "1c7caff4",
   "metadata": {
    "hidden": true
   },
   "source": [
    "Given two strings s and t of lengths m and n respectively, return the minimum window substring of s such that every character in t (including duplicates) is included in the window. If there is no such substring, return the empty string \"\".\n",
    "\n",
    "The testcases will be generated such that the answer is unique.\n",
    "\n",
    "A substring is a contiguous sequence of characters within the string.\n",
    "\n",
    " \n",
    "\n",
    "Example 1:\n",
    "\n",
    "Input: s = \"ADOBECODEBANC\", t = \"ABC\"\n",
    "Output: \"BANC\"\n",
    "Explanation: The minimum window substring \"BANC\" includes 'A', 'B', and 'C' from string t.\n",
    "Example 2:\n",
    "\n",
    "Input: s = \"a\", t = \"a\"\n",
    "Output: \"a\"\n",
    "Explanation: The entire string s is the minimum window.\n",
    "Example 3:\n",
    "\n",
    "Input: s = \"a\", t = \"aa\"\n",
    "Output: \"\"\n",
    "Explanation: Both 'a's from t must be included in the window.\n",
    "Since the largest window of s only has one 'a', return empty string."
   ]
  },
  {
   "cell_type": "code",
   "execution_count": null,
   "id": "615d29f3",
   "metadata": {
    "hidden": true
   },
   "outputs": [],
   "source": []
  },
  {
   "cell_type": "markdown",
   "id": "4cda19cb",
   "metadata": {
    "heading_collapsed": true
   },
   "source": [
    "# Q19 - LONGEST PALINDROME IN A STRING(*)"
   ]
  },
  {
   "cell_type": "code",
   "execution_count": null,
   "id": "1b5e20cb",
   "metadata": {
    "hidden": true
   },
   "outputs": [],
   "source": []
  },
  {
   "cell_type": "markdown",
   "id": "531eecbb",
   "metadata": {
    "hidden": true
   },
   "source": [
    "Given a string s, return the longest palindromic substring in s.\n",
    "\n",
    " \n",
    "\n",
    "Example 1:\n",
    "\n",
    "Input: s = \"babad\"\n",
    "Output: \"bab\"\n",
    "Explanation: \"aba\" is also a valid answer.\n",
    "Example 2:\n",
    "\n",
    "Input: s = \"cbbd\"\n",
    "Output: \"bb\""
   ]
  },
  {
   "cell_type": "code",
   "execution_count": null,
   "id": "494d305a",
   "metadata": {
    "hidden": true
   },
   "outputs": [],
   "source": [
    "# https://www.youtube.com/watch?v=XYQecbcd6_c\n",
    "\n",
    "S = \"cbbd\"\n",
    "\n",
    "start = 0\n",
    "maxL = 1\n",
    "low = 0\n",
    "high = 0\n",
    "\n",
    "for i in range(1, len(S)):\n",
    "   # for substring with odd length\n",
    "    low = i-1\n",
    "    high = i\n",
    "    while low >=0 and high < len(S) and S[low] == S[high]:\n",
    "        if (high -low + 1) > maxL:\n",
    "            start = low\n",
    "            maxL = high - low + 1\n",
    "           \n",
    "        low -= 1\n",
    "        high += 1\n",
    "       \n",
    "   # for substring with even length\n",
    "    low = i-1\n",
    "    high = i+1\n",
    "    while low >= 0 and high < len(S) and S[low] == S[high]:\n",
    "        if (high - low + 1) > maxL:\n",
    "            start = low\n",
    "            maxL = high - low + 1\n",
    "           \n",
    "        low -= 1\n",
    "        high += 1\n",
    "       \n",
    "a = S[start: start+maxL]\n",
    "print(a)    "
   ]
  },
  {
   "cell_type": "code",
   "execution_count": null,
   "id": "47740a64",
   "metadata": {
    "hidden": true
   },
   "outputs": [],
   "source": [
    "S = \"babad\"\n",
    "\n",
    "res = ''\n",
    "resLen = 0 \n",
    "\n",
    "for i in range(len(S)):\n",
    "    #for odd lenght \n",
    "    l,r = i,i \n",
    "    \n",
    "    while l >= 0 and r < len(S) and S[l] == S[r]:\n",
    "        if (r - l + 1) > resLen:\n",
    "            res = S[l:r+1]\n",
    "            resLen = r-l+1\n",
    "        l -=1\n",
    "        r +=1\n",
    "    \n",
    "    #for even lenght\n",
    "    l,r = i , i+1\n",
    "    while l >= 0 and r < len(S) and S[l] == S[r]:\n",
    "        if (r - l + 1) > resLen:\n",
    "            res = S[l:r+1]\n",
    "            resLen = r-l+1\n",
    "        l -=1\n",
    "        r +=1\n",
    "    \n",
    "    \n",
    "print(res)"
   ]
  },
  {
   "cell_type": "code",
   "execution_count": null,
   "id": "ce2263c8",
   "metadata": {
    "hidden": true
   },
   "outputs": [],
   "source": []
  },
  {
   "cell_type": "markdown",
   "id": "fbc0f5c6",
   "metadata": {
    "heading_collapsed": true
   },
   "source": [
    "# Q20 - Product of Array Except Self"
   ]
  },
  {
   "cell_type": "markdown",
   "id": "712feb3b",
   "metadata": {
    "hidden": true
   },
   "source": [
    "Given an integer array nums, return an array answer such that answer[i] is equal to the product of all the elements of nums except nums[i].\n",
    "\n",
    "The product of any prefix or suffix of nums is guaranteed to fit in a 32-bit integer.\n",
    "\n",
    "You must write an algorithm that runs in O(n) time and without using the division operation.\n",
    "\n",
    " \n",
    "\n",
    "Example 1:\n",
    "\n",
    "Input: nums = [1,2,3,4]\n",
    "Output: [24,12,8,6]\n",
    "Example 2:\n",
    "\n",
    "Input: nums = [-1,1,0,-3,3]\n",
    "Output: [0,0,9,0,0]"
   ]
  },
  {
   "cell_type": "code",
   "execution_count": null,
   "id": "e70cf495",
   "metadata": {
    "hidden": true
   },
   "outputs": [],
   "source": [
    "# Algorithm: \n",
    "\n",
    "def Product_Array(arr):\n",
    "    \n",
    "    n = len(arr)\n",
    "    \n",
    "    # Create two array prefix and suffix of length n, i.e length of the original array, initialize prefix[0] = 1 and suffix[n-1] = 1 and also another array to store the product.\n",
    "    prefix = [0]*n\n",
    "    suffix = [0]*n\n",
    "\n",
    "    product_array = [0]*n\n",
    "\n",
    "    # initialize the array elements prefix with 1 and suffix last element with 1 \n",
    "    prefix[0] = 1\n",
    "    suffix[n-1] = 1\n",
    "    # Traverse the array from second index to end.\n",
    "    # For every index i update prefix[i] as prefix[i] = prefix[i-1] * array[i-1], i.e store the product upto i-1 index from the start of array.\n",
    "    # Traverse the array from second last index to start.\n",
    "\n",
    "    for i in range(1,n):\n",
    "        prefix[i] = prefix[i-1]*arr[i-1]\n",
    "\n",
    "\n",
    "    # For every index i update suffix[i] as suffix[i] = suffix[i+1] * array[i+1], i.e store the product upto i+1 index from the end of array\n",
    "    # Traverse the array from start to end.\n",
    "\n",
    "    for j in range(n-2,-1,-1):\n",
    "        suffix[j] = suffix[j+1]*arr[j+1]\n",
    "\n",
    "    # For every index i the output will be prefix[i] * suffix[i], the product of the array element except that element.\n",
    "    for i in range(0,n):\n",
    "        product_array[i] = prefix[i]*suffix[i]\n",
    "\n",
    "    \n",
    "    return product_array\n",
    "    "
   ]
  },
  {
   "cell_type": "code",
   "execution_count": null,
   "id": "a20b202e",
   "metadata": {
    "hidden": true
   },
   "outputs": [],
   "source": [
    "Product_Array([10, 3, 5, 6, 2])"
   ]
  },
  {
   "cell_type": "code",
   "execution_count": null,
   "id": "6736b995",
   "metadata": {
    "hidden": true
   },
   "outputs": [],
   "source": [
    "arr = [10, 3, 5, 6, 2]\n",
    "n = len(arr)\n",
    "\n",
    "prefix = [0]*n\n",
    "prefix[0] = 1\n",
    "suffix = [0]*n\n",
    "suffix[n-1] = 1\n",
    "product_array = [0]*n\n",
    "\n",
    "\n",
    "\n",
    "for i in range(1,n):\n",
    "    prefix[i] = prefix[i-1]*arr[i-1]\n",
    "#     print(prefix[i])\n",
    "\n",
    "    \n",
    "for j in range(n-2,-1,-1):\n",
    "    suffix[j] = suffix[j+1]*arr[j+1]\n",
    "#     print(suffix[j])\n",
    "\n",
    "for i in range(0,n):\n",
    "    product_array[i] = prefix[i]*suffix[i]\n",
    "    print(product_array)"
   ]
  },
  {
   "cell_type": "markdown",
   "id": "836d309a",
   "metadata": {
    "hidden": true
   },
   "source": [
    "- Better solution "
   ]
  },
  {
   "cell_type": "markdown",
   "id": "c235f77f",
   "metadata": {
    "hidden": true
   },
   "source": [
    "- Efficient solution:\n",
    "- Approach: In the previous solution, two extra arrays were created to store the prefix and suffix, in this solution store the prefix and suffix product in the output array (or product array) itself. Thus reducing the space required.\n",
    "\n",
    "- Algorithm: \n",
    "\n",
    "- Create an array product and initialize its value to 1 and a variable temp = 1.\n",
    "- Traverse the array from start to end.\n",
    "- For every index i update product[i] as product[i] = temp and temp = temp * array[i], i.e store the product upto i-1 index from the start of array.\n",
    "- initialize temp = 1 and traverse the array from last index to start.\n",
    "- For every index i update product[i] as product[i] = product[i] * temp and temp = temp * array[i], i.e multiply with the product upto i+1 index from the end of array.\n",
    "- Print the product array."
   ]
  },
  {
   "cell_type": "code",
   "execution_count": null,
   "id": "37e8c2fb",
   "metadata": {
    "hidden": true
   },
   "outputs": [],
   "source": []
  },
  {
   "cell_type": "markdown",
   "id": "2d5fa942",
   "metadata": {
    "heading_collapsed": true
   },
   "source": [
    "# Q22 - 3 SUM"
   ]
  },
  {
   "cell_type": "markdown",
   "id": "6654978c",
   "metadata": {
    "hidden": true
   },
   "source": [
    "Given an integer array nums, return all the triplets [nums[i], nums[j], nums[k]] such that i != j, i != k, and j != k, and nums[i] + nums[j] + nums[k] == 0.\n",
    "\n",
    "Notice that the solution set must not contain duplicate triplets.\n",
    "\n",
    " \n",
    "\n",
    "Example 1:\n",
    "\n",
    "Input: nums = [-1,0,1,2,-1,-4]\n",
    "Output: [[-1,-1,2],[-1,0,1]]\n",
    "\n",
    "\n",
    "Explanation: \n",
    "nums[0] + nums[1] + nums[2] = (-1) + 0 + 1 = 0.\n",
    "nums[1] + nums[2] + nums[4] = 0 + 1 + (-1) = 0.\n",
    "nums[0] + nums[3] + nums[4] = (-1) + 2 + (-1) = 0.\n",
    "\n",
    "\n",
    "The distinct triplets are [-1,0,1] and [-1,-1,2].\n",
    "Notice that the order of the output and the order of the triplets does not matter.\n",
    "\n",
    "Example 2:\n",
    "\n",
    "Input: nums = [0,1,1]\n",
    "Output: []\n",
    "\n",
    "Explanation: The only possible triplet does not sum up to 0.\n",
    "\n",
    "Example 3:\n",
    "\n",
    "Input: nums = [0,0,0]\n",
    "Output: [[0,0,0]]\n",
    "\n",
    "Explanation: The only possible triplet sums up to 0."
   ]
  },
  {
   "cell_type": "markdown",
   "id": "d47abd00",
   "metadata": {
    "hidden": true
   },
   "source": [
    "- Follow the below steps to Implement the Idea: \n",
    "\n",
    "- Run three nested loops with loop counter i, j, k\n",
    "- The first loops will run from 0 to n-3 and second loop from i+1 to n-2 and the third loop from j+1 to b. The loop counter represents the three elements of the triplet.\n",
    "- Check if the sum of elements at i’th, j’th, k’th is equal to zero or not. If yes print the sum else continue."
   ]
  },
  {
   "cell_type": "code",
   "execution_count": null,
   "id": "b75cd3d9",
   "metadata": {
    "hidden": true
   },
   "outputs": [],
   "source": [
    "def findTriplets(arr):\n",
    "    n = len(arr)\n",
    "    \n",
    "    found = False\n",
    "    for i in range(0,n-2):\n",
    "        for j in range(i+1, n-1):\n",
    "            for k in range(j+1, n):\n",
    "                if (arr[i] + arr[j] + arr[k] == 0):\n",
    "                    print(arr[i], arr[j], arr[k])\n",
    "                    found = True\n",
    "    if (found == False):\n",
    "        print(\" not exist \")\n",
    "                "
   ]
  },
  {
   "cell_type": "code",
   "execution_count": null,
   "id": "37ff4b05",
   "metadata": {
    "hidden": true
   },
   "outputs": [],
   "source": [
    "findTriplets([0, -1, 2, -3, 1])"
   ]
  },
  {
   "cell_type": "markdown",
   "id": "d66185fd",
   "metadata": {
    "hidden": true
   },
   "source": [
    "- bettter aaprach "
   ]
  },
  {
   "cell_type": "markdown",
   "id": "28e06db5",
   "metadata": {
    "hidden": true
   },
   "source": [
    "\n",
    "- Follow the steps below to implement the idea:\n",
    "\n",
    "- Create a Hashmap to store a key-value pair.\n",
    "- Run a nested loop with two loops, the outer loop from 0 to n-2 and the inner loop from i+1 to n-1\n",
    "- Check if the sum of ith and jth element multiplied with -1 is present in the Hashmap or not\n",
    "- If the element is present in the Hashmap, print the triplet else insert the j’th element in the Hashmap."
   ]
  },
  {
   "cell_type": "code",
   "execution_count": null,
   "id": "1b6187b9",
   "metadata": {
    "hidden": true
   },
   "outputs": [],
   "source": [
    "def findTriplets(arr):\n",
    "    n = len(arr)\n",
    "    \n",
    "    found = False \n",
    "    for i in range(0, n-1):\n",
    "        \n",
    "        s = set()\n",
    "        for j in range(i+1 , n):\n",
    "            x = -(arr[i] + arr[j])\n",
    "            found = True\n",
    "            if x in s:\n",
    "                print (arr[i] , arr[j] , x)\n",
    "            else:\n",
    "                s.add(arr[j])\n",
    "                \n",
    "    if found == False:\n",
    "        return No"
   ]
  },
  {
   "cell_type": "code",
   "execution_count": null,
   "id": "1cddb332",
   "metadata": {
    "hidden": true
   },
   "outputs": [],
   "source": [
    "findTriplets([0, -1, 2, -3, 1])"
   ]
  },
  {
   "cell_type": "code",
   "execution_count": null,
   "id": "eeccb7fe",
   "metadata": {
    "hidden": true
   },
   "outputs": [],
   "source": [
    "arr = [0, -1, 2, -3, 1]\n",
    "n = len(arr)\n",
    "\n",
    "for i in range(0,n-1):\n",
    "    print(arr[i],'f')\n",
    "    for j in range(i+1 , n):\n",
    "        print(arr[j],'sd')"
   ]
  },
  {
   "cell_type": "code",
   "execution_count": null,
   "id": "a6c9adf3",
   "metadata": {
    "hidden": true
   },
   "outputs": [],
   "source": []
  },
  {
   "cell_type": "markdown",
   "id": "b4b21d74",
   "metadata": {
    "heading_collapsed": true
   },
   "source": [
    "# Q23 - Container With Most Water"
   ]
  },
  {
   "attachments": {
    "image-2.png": {
     "image/png": "[encoded data removed]"
    },
    "image.png": {
     "image/png": "[encoded data removed]"
    }
   },
   "cell_type": "markdown",
   "id": "06970650",
   "metadata": {
    "hidden": true
   },
   "source": [
    "![image.png](attachment:image.png)\n",
    "![image-2.png](attachment:image-2.png)"
   ]
  },
  {
   "cell_type": "markdown",
   "id": "296cb5ae",
   "metadata": {
    "hidden": true
   },
   "source": [
    "Naive approach "
   ]
  },
  {
   "cell_type": "markdown",
   "id": "9006c740",
   "metadata": {
    "hidden": true
   },
   "source": [
    "- Algorithm: \n",
    "- Create a nested loop, the outer loop traverses the array from 0 to end (index of this loop is i).\n",
    "- The inner loop traverses the array from i + 1 to end (index of this loop is j).\n",
    "- Find the water that can be contained in the container with height of boundaries as array[i] and array[j], i.e area = (j – i)* min(array[i],array[j]), if this area is greater than current maximum, update the current maximum\n",
    "- Print the current maximum."
   ]
  },
  {
   "cell_type": "code",
   "execution_count": null,
   "id": "fe16acde",
   "metadata": {
    "hidden": true
   },
   "outputs": [],
   "source": [
    "a = [ 1, 5, 4, 3 ]\n",
    "n = len(a)\n",
    "area = 0\n",
    "\n",
    "for i in range(0,n):\n",
    "    for j in range(i+1,n):\n",
    "        area = max(area,(j-i)*min(a[i] , a[j]))\n",
    "    \n",
    "print(area)"
   ]
  },
  {
   "cell_type": "markdown",
   "id": "398003ad",
   "metadata": {
    "hidden": true
   },
   "source": [
    "efficient solution "
   ]
  },
  {
   "cell_type": "markdown",
   "id": "86cbb7b3",
   "metadata": {
    "hidden": true
   },
   "source": [
    "- Algorithm: \n",
    "- Keep two index, first = 0 and last = n-1 and a value max_area that stores the maximum area.\n",
    "- Run a loop until first is less than the last.\n",
    "- Update the max_area with maximum of max_area and min(array[first] , array[last])*(last-first)\n",
    "- if the value at array[first] is greater the array[last] then update last as last – 1 else update first as first + 1\n",
    "- Print the maximum area."
   ]
  },
  {
   "cell_type": "code",
   "execution_count": null,
   "id": "e7b526ed",
   "metadata": {
    "hidden": true
   },
   "outputs": [],
   "source": [
    "def water(arr):\n",
    "    n = len(arr)\n",
    "    l = 0\n",
    "    r = n-1 \n",
    "    area = 0 \n",
    "    \n",
    "    while l<r :\n",
    "        \n",
    "        area = max(area , (min(arr[l] , arr[r]))*(r-l))\n",
    "        \n",
    "        if arr[l] < arr[r]:\n",
    "            l += 1\n",
    "        else:\n",
    "            r -= 1\n",
    "    return area"
   ]
  },
  {
   "cell_type": "code",
   "execution_count": null,
   "id": "4ab2dfb3",
   "metadata": {
    "hidden": true
   },
   "outputs": [],
   "source": [
    "water([1, 5, 4, 3])"
   ]
  },
  {
   "cell_type": "code",
   "execution_count": null,
   "id": "fb8ca259",
   "metadata": {
    "hidden": true
   },
   "outputs": [],
   "source": [
    "water([3, 1, 2, 4, 5])"
   ]
  },
  {
   "cell_type": "code",
   "execution_count": null,
   "id": "62e92767",
   "metadata": {
    "hidden": true
   },
   "outputs": [],
   "source": []
  },
  {
   "cell_type": "markdown",
   "id": "eacf23ce",
   "metadata": {
    "heading_collapsed": true
   },
   "source": [
    "# Q24 Search in Rotated Sorted Array"
   ]
  },
  {
   "cell_type": "markdown",
   "id": "3dd41149",
   "metadata": {
    "hidden": true
   },
   "source": [
    "- idx = [0, 1,  2,  3,  4,  5,  6]\n",
    "- a   = [0, 1,  2,  4,  5,  6,  7]\n",
    "- log = [k,k+1,k+2,k+3,k-3,k-2,k-1] : k = 3\n",
    "- ans = [4, 5,  6,  7,  0,  1,  2]\n",
    "\n",
    "https://www.youtube.com/watch?v=U8XENwh8Oy8"
   ]
  },
  {
   "attachments": {
    "image.png": {
     "image/png": "[encoded data removed]"
    }
   },
   "cell_type": "markdown",
   "id": "f2f70ee6",
   "metadata": {
    "hidden": true
   },
   "source": [
    "![image.png](attachment:image.png)"
   ]
  },
  {
   "cell_type": "code",
   "execution_count": null,
   "id": "da95ff5b",
   "metadata": {
    "hidden": true
   },
   "outputs": [],
   "source": [
    "def search(nums,target):\n",
    "    n = len(nums)\n",
    "    for i in range(n):\n",
    "        if target == nums[i]:\n",
    "            return i\n",
    "    else: \n",
    "        return -1"
   ]
  },
  {
   "cell_type": "code",
   "execution_count": null,
   "id": "919cd402",
   "metadata": {
    "hidden": true
   },
   "outputs": [],
   "source": [
    "search([4,5,6,7,0,1,2],0)"
   ]
  },
  {
   "cell_type": "markdown",
   "id": "f142e90f",
   "metadata": {
    "hidden": true
   },
   "source": [
    "- 0(log(n)) time "
   ]
  },
  {
   "cell_type": "code",
   "execution_count": null,
   "id": "9860cd6f",
   "metadata": {
    "hidden": true
   },
   "outputs": [],
   "source": [
    "# we need to use the 2 pointer approach \n",
    "\n",
    "def searchele(nums,target):\n",
    "    \n",
    "    l, r = 0 , len(nums)-1\n",
    "    \n",
    "    while l <= r :\n",
    "        mid = (l + r)//2\n",
    "        \n",
    "        if target == nums[mid] :\n",
    "            return mid\n",
    "        \n",
    "        if nums[l] <= nums[mid]:\n",
    "            if nums[mid] < target or target < nums[l]:\n",
    "                l = mid +1 \n",
    "            else :\n",
    "                r = mid - 1\n",
    "                \n",
    "        else:\n",
    "            if target < nums[mid] or target > nums[r]:\n",
    "                r = mid -1 \n",
    "                \n",
    "            else: \n",
    "                l = mid + 1 \n",
    "                \n",
    "    return -1 \n"
   ]
  },
  {
   "cell_type": "code",
   "execution_count": null,
   "id": "05a3115e",
   "metadata": {
    "hidden": true
   },
   "outputs": [],
   "source": [
    "searchele([4,5,6,7,0,1,2],0)"
   ]
  },
  {
   "cell_type": "code",
   "execution_count": null,
   "id": "f7f56083",
   "metadata": {
    "hidden": true
   },
   "outputs": [],
   "source": []
  },
  {
   "cell_type": "markdown",
   "id": "18b069a6",
   "metadata": {
    "heading_collapsed": true
   },
   "source": [
    "# Q25 -  Find Minimum in Rotated Sorted Array"
   ]
  },
  {
   "attachments": {
    "image.png": {
     "image/png": "[encoded data removed]"
    }
   },
   "cell_type": "markdown",
   "id": "01d9c857",
   "metadata": {
    "hidden": true
   },
   "source": [
    "![image.png](attachment:image.png)"
   ]
  },
  {
   "cell_type": "code",
   "execution_count": 9,
   "id": "963ed383",
   "metadata": {
    "hidden": true
   },
   "outputs": [],
   "source": [
    "# nums = [0,1,2,4,5,6,7] sorted              mid < end  min left \n",
    "# nums = [1,2,4,5,6,7,0] = 1 times           mid > end  min right\n",
    "# nums = [2,4,5,6,7,0,1] = 2 times           mid > end  min right \n",
    "# nums = [4,5,6,7,0,1,2] = 3 times           mid > end  min right \n",
    "# nums = [5,6,7,0,1,2,4] = 4 times           mid < end  min mid \n",
    "# nums = [6,7,0,1,2,4,5] = 5 times           mid < end  min left \n",
    "# nums = [7,0,1,2,4,5,6] = 6 times           mid < end  min left \n",
    "# nums = [0,1,2,4,5,6,7] = 7 times           mid < end  min left \n",
    "# https://www.youtube.com/watch?v=nIVW4P8b1VA"
   ]
  },
  {
   "cell_type": "code",
   "execution_count": 15,
   "id": "6ee964c4",
   "metadata": {
    "hidden": true
   },
   "outputs": [],
   "source": [
    "def MinRotate (nums):\n",
    "    n = len(nums)\n",
    "    res = nums[0]\n",
    "    l,r = 0 , n - 1\n",
    "    \n",
    "    while l <= r :\n",
    "        if nums[l] < nums[r]:\n",
    "            res = min(res, nums[l])\n",
    "            break \n",
    "        \n",
    "        mid = (l + r)//2\n",
    "        res = min(res, nums[mid])\n",
    "        if nums[mid] >= nums[l]:\n",
    "            l = mid + 1 \n",
    "        else:\n",
    "            r = mid - 1\n",
    "            \n",
    "    return res \n",
    "        \n",
    "        "
   ]
  },
  {
   "cell_type": "code",
   "execution_count": 16,
   "id": "44f64426",
   "metadata": {
    "hidden": true
   },
   "outputs": [
    {
     "data": {
      "text/plain": [
       "34"
      ]
     },
     "execution_count": 16,
     "metadata": {},
     "output_type": "execute_result"
    }
   ],
   "source": [
    "MinRotate ([34,56,66,74,89,99,100])"
   ]
  },
  {
   "cell_type": "code",
   "execution_count": null,
   "id": "9fc9babf",
   "metadata": {
    "hidden": true
   },
   "outputs": [],
   "source": []
  },
  {
   "cell_type": "markdown",
   "id": "2252a80b",
   "metadata": {},
   "source": [
    "# Q26 - Set Matrix Zeroes"
   ]
  },
  {
   "cell_type": "code",
   "execution_count": null,
   "id": "1da22a8c",
   "metadata": {},
   "outputs": [],
   "source": []
  }
 ],
 "metadata": {
  "kernelspec": {
   "display_name": "Python 3 (ipykernel)",
   "language": "python",
   "name": "python3"
  },
  "language_info": {
   "codemirror_mode": {
    "name": "ipython",
    "version": 3
   },
   "file_extension": ".py",
   "mimetype": "text/x-python",
   "name": "python",
   "nbconvert_exporter": "python",
   "pygments_lexer": "ipython3",
   "version": "3.9.7"
  }
 },
 "nbformat": 4,
 "nbformat_minor": 5
}
